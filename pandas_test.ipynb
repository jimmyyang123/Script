{
 "cells": [
  {
   "cell_type": "code",
   "execution_count": 1,
   "metadata": {},
   "outputs": [],
   "source": [
    "import os\n",
    "import sys\n",
    "import re\n",
    "import numpy as np\n",
    "import pandas as pd\n"
   ]
  },
  {
   "cell_type": "code",
   "execution_count": 21,
   "metadata": {},
   "outputs": [],
   "source": [
    "df = pd.read_csv(r'FL_insurance_sample.csv', usecols =['policyID', 'eq_site_limit', 'hu_site_limit' ])\n"
   ]
  },
  {
   "cell_type": "code",
   "execution_count": 31,
   "metadata": {},
   "outputs": [
    {
     "name": "stdout",
     "output_type": "stream",
     "text": [
      "119736.0 498960.0 498960.0\n",
      "119736.0.txt\n",
      "448094.0 1322376.3 1322376.3\n",
      "448094.0.txt\n",
      "206893.0 190724.4 190724.4\n",
      "206893.0.txt\n",
      "333743.0 0.0 79520.76\n",
      "333743.0.txt\n",
      "172534.0 0.0 254281.5\n",
      "172534.0.txt\n",
      "785275.0 0.0 515035.62\n",
      "785275.0.txt\n",
      "995932.0 0.0 19260000.0\n",
      "995932.0.txt\n",
      "223488.0 328500.0 328500.0\n",
      "223488.0.txt\n",
      "433512.0 315000.0 315000.0\n",
      "433512.0.txt\n",
      "142071.0 705600.0 705600.0\n",
      "142071.0.txt\n",
      "253816.0 831498.3 831498.3\n",
      "253816.0.txt\n",
      "894922.0 0.0 24059.09\n",
      "894922.0.txt\n",
      "422834.0 0.0 48115.94\n",
      "422834.0.txt\n",
      "582721.0 0.0 28869.12\n",
      "582721.0.txt\n",
      "710400.0 0.0 1430.89\n",
      "710400.0.txt\n",
      "703001.0 0.0 129913.27\n",
      "703001.0.txt\n",
      "352792.0 0.0 366285.62\n",
      "352792.0.txt\n",
      "717603.0 0.0 22512.61\n",
      "717603.0.txt\n",
      "937659.0 0.0 9246.6\n",
      "937659.0.txt\n",
      "294022.0 0.0 96164.64\n",
      "294022.0.txt\n",
      "410500.0 0.0 11095.92\n",
      "410500.0.txt\n",
      "524433.0 218475.0 218475.0\n",
      "524433.0.txt\n",
      "779298.0 1400904.0 1400904.0\n",
      "779298.0.txt\n",
      "491831.0 4365.0 4365.0\n",
      "491831.0.txt\n",
      "814637.0 4365.0 4365.0\n",
      "814637.0.txt\n",
      "737515.0 39789.0 39789.0\n",
      "737515.0.txt\n",
      "222653.0 24867.0 24867.0\n",
      "222653.0.txt\n",
      "788543.0 213876.0 213876.0\n",
      "788543.0.txt\n"
     ]
    }
   ],
   "source": [
    "for index, row in df.iterrows():\n",
    "    print (row['policyID'], row['eq_site_limit'], row['hu_site_limit'])\n",
    "    txtname = (str(row['policyID']) + r'.txt')\n",
    "    begin, end = str(row['eq_site_limit']), str(row['hu_site_limit'])\n",
    "    print (txtname)\n",
    "    file = open(txtname, \"w\")\n",
    "    file.write(\"hello world\\n\")\n",
    "    file.write(\"element %s %s\\n\" %(begin, end))\n",
    "    file.close()"
   ]
  },
  {
   "cell_type": "code",
   "execution_count": null,
   "metadata": {},
   "outputs": [],
   "source": []
  }
 ],
 "metadata": {
  "kernelspec": {
   "display_name": "Python [conda env:Anaconda3]",
   "language": "python",
   "name": "conda-env-Anaconda3-py"
  },
  "language_info": {
   "codemirror_mode": {
    "name": "ipython",
    "version": 3
   },
   "file_extension": ".py",
   "mimetype": "text/x-python",
   "name": "python",
   "nbconvert_exporter": "python",
   "pygments_lexer": "ipython3",
   "version": "3.6.6"
  }
 },
 "nbformat": 4,
 "nbformat_minor": 2
}
